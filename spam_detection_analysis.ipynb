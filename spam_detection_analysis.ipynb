{
  "cells": [
    {
      "cell_type": "markdown",
      "metadata": {},
      "source": [
        "# Spam Detection Analysis Notebook\n",
        "\n",
        "This notebook provides an interactive analysis of the spam detection project results.\n",
        "\n",
        "## Overview\n",
        "- Load and visualize training results\n",
        "- Analyze model performance\n",
        "- Explore clustering results\n",
        "- Test predictions interactively\n"
      ]
    },
    {
      "cell_type": "code",
      "execution_count": null,
      "metadata": {},
      "outputs": [],
      "source": [
        "# Import required libraries\n",
        "import pandas as pd\n",
        "import numpy as np\n",
        "import matplotlib.pyplot as plt\n",
        "import seaborn as sns\n",
        "import joblib\n",
        "import os\n",
        "from sklearn.metrics import classification_report, confusion_matrix\n",
        "\n",
        "# Set style\n",
        "plt.style.use('seaborn-v0_8')\n",
        "sns.set_palette(\"husl\")\n",
        "\n",
        "print(\"Libraries imported successfully!\")\n"
      ]
    },
    {
      "cell_type": "markdown",
      "metadata": {},
      "source": [
        "## 1. Load Data and Results\n"
      ]
    },
    {
      "cell_type": "code",
      "execution_count": null,
      "metadata": {},
      "outputs": [],
      "source": [
        "# Load preprocessed data\n",
        "train_df = pd.read_csv('outputs/train.csv')\n",
        "val_df = pd.read_csv('outputs/val.csv')\n",
        "test_df = pd.read_csv('outputs/test.csv')\n",
        "\n",
        "print(f\"Training data: {len(train_df)} messages\")\n",
        "print(f\"Validation data: {len(val_df)} messages\")\n",
        "print(f\"Test data: {len(test_df)} messages\")\n",
        "\n",
        "# Display class distribution\n",
        "print(\"\\nClass distribution:\")\n",
        "print(train_df['label'].value_counts())\n"
      ]
    },
    {
      "cell_type": "markdown",
      "metadata": {},
      "source": [
        "## 2. Load Trained Model\n"
      ]
    },
    {
      "cell_type": "code",
      "execution_count": null,
      "metadata": {},
      "outputs": [],
      "source": [
        "# Load the best trained model\n",
        "model_path = 'outputs/models/spam_pipeline.joblib'\n",
        "if os.path.exists(model_path):\n",
        "    model = joblib.load(model_path)\n",
        "    print(\"Model loaded successfully!\")\n",
        "    print(f\"Model type: {type(model).__name__}\")\n",
        "else:\n",
        "    print(\"Model not found. Please run the training pipeline first.\")\n",
        "    model = None\n"
      ]
    },
    {
      "cell_type": "markdown",
      "metadata": {},
      "source": [
        "## 3. Interactive Prediction Testing\n"
      ]
    },
    {
      "cell_type": "code",
      "execution_count": null,
      "metadata": {},
      "outputs": [],
      "source": [
        "def predict_message_interactive(message):\n",
        "    \"\"\"\n",
        "    Interactive prediction function.\n",
        "    \"\"\"\n",
        "    if model is None:\n",
        "        print(\"Model not loaded. Please run training first.\")\n",
        "        return\n",
        "    \n",
        "    # Make prediction\n",
        "    prediction = model.predict([message])[0]\n",
        "    \n",
        "    # Get confidence\n",
        "    try:\n",
        "        proba = model.predict_proba([message])[0]\n",
        "        confidence = max(proba)\n",
        "    except AttributeError:\n",
        "        decision = model.decision_function([message])[0]\n",
        "        confidence = 1 / (1 + abs(decision))\n",
        "    \n",
        "    # Format result\n",
        "    if prediction == 'spam':\n",
        "        emoji = \"🚨\"\n",
        "        status = \"SPAM\"\n",
        "    else:\n",
        "        emoji = \"✅\"\n",
        "        status = \"NOT SPAM\"\n",
        "    \n",
        "    print(f\"Message: {message}\")\n",
        "    print(f\"Result: {emoji} {status} (confidence: {confidence:.2%})\")\n",
        "\n",
        "# Test with sample messages\n",
        "test_messages = [\n",
        "    \"Congratulations! You have won $1000 cash prize!\",\n",
        "    \"Hey, how are you doing today?\",\n",
        "    \"URGENT! Your account has been compromised. Click here to verify.\",\n",
        "    \"Thanks for the great presentation today.\",\n",
        "    \"Free entry in 2 a wkly comp to win FA Cup final tkts.\"\n",
        "]\n",
        "\n",
        "print(\"Testing sample messages:\")\n",
        "print(\"=\" * 50)\n",
        "for msg in test_messages:\n",
        "    predict_message_interactive(msg)\n",
        "    print(\"-\" * 30)\n"
      ]
    },
    {
      "cell_type": "markdown",
      "metadata": {},
      "source": [
        "## 4. Custom Message Testing\n"
      ]
    },
    {
      "cell_type": "code",
      "execution_count": null,
      "metadata": {},
      "outputs": [],
      "source": [
        "# Test your own messages here\n",
        "custom_message = \"Enter your message here to test the spam detector\"\n",
        "\n",
        "if custom_message != \"Enter your message here to test the spam detector\":\n",
        "    predict_message_interactive(custom_message)\n",
        "else:\n",
        "    print(\"Please modify the 'custom_message' variable above to test your own message.\")\n"
      ]
    }
  ],
  "metadata": {
    "language_info": {
      "name": "python"
    }
  },
  "nbformat": 4,
  "nbformat_minor": 2
}
